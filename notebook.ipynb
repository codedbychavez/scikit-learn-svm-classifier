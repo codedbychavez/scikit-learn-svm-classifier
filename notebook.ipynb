{
 "cells": [
  {
   "cell_type": "code",
   "execution_count": 1,
   "metadata": {},
   "outputs": [],
   "source": [
    "import pandas as pd\n",
    "from sklearn.svm import LinearSVC\n",
    "from sklearn.model_selection import train_test_split\n",
    "from sklearn.feature_extraction.text import CountVectorizer\n",
    "from sklearn.feature_extraction.text import TfidfTransformer\n",
    "import pickle5 as pickle"
   ]
  },
  {
   "cell_type": "code",
   "execution_count": 2,
   "metadata": {},
   "outputs": [],
   "source": [
    "df = pd.read_json('./classifier/classification_data.json')\n",
    "X_train, X_test, y_train, y_test = train_test_split(df['text'], df['intent'], random_state=0)\n",
    "\n",
    "count_vect = CountVectorizer()\n",
    "X_train_counts = count_vect.fit_transform(X_train)\n",
    "tfidf_transformer = TfidfTransformer()\n",
    "X_train_tfidf = tfidf_transformer.fit_transform(X_train_counts)\n",
    "\n",
    "model = LinearSVC(dual=\"auto\").fit(X_train_tfidf, y_train)\n",
    "\n",
    "# Save the vectorizer \n",
    "vec_file = './classifier/vectorizer.pickle'\n",
    "pickle.dump(count_vect, open(vec_file, 'wb'))\n",
    "\n",
    "# Save the model\n",
    "mod_file = './classifier/classifier.model'\n",
    "pickle.dump(model, open(mod_file, 'wb'))"
   ]
  },
  {
   "cell_type": "code",
   "execution_count": 3,
   "metadata": {},
   "outputs": [],
   "source": [
    "text = \"Whats the weather like today?\""
   ]
  },
  {
   "cell_type": "code",
   "execution_count": 4,
   "metadata": {},
   "outputs": [
    {
     "name": "stdout",
     "output_type": "stream",
     "text": [
      "{'intent': 'get_weather_in_location', 'confidence': 0.32104388592482813, 'text': 'Whats the weather like today?'}\n"
     ]
    }
   ],
   "source": [
    "# Load the vectorizer\n",
    "vec_file = './classifier/vectorizer.pickle'\n",
    "count_vect = pickle.load(open(vec_file, 'rb'))\n",
    "\n",
    "# Load the model\n",
    "mod_file = './classifier/classifier.model'\n",
    "model = pickle.load(open(mod_file, 'rb'))\n",
    "\n",
    "# Classify the text\n",
    "text_counts = count_vect.transform([text])\n",
    "predicted = model.predict(text_counts)\n",
    "scores = model.decision_function(text_counts)\n",
    "\n",
    "result = {\n",
    "    'intent': predicted[0],\n",
    "    'confidence': max(scores[0]),\n",
    "    'text': text\n",
    "}\n",
    "\n",
    "print(result)"
   ]
  }
 ],
 "metadata": {
  "kernelspec": {
   "display_name": "venv",
   "language": "python",
   "name": "python3"
  },
  "language_info": {
   "codemirror_mode": {
    "name": "ipython",
    "version": 3
   },
   "file_extension": ".py",
   "mimetype": "text/x-python",
   "name": "python",
   "nbconvert_exporter": "python",
   "pygments_lexer": "ipython3",
   "version": "3.10.12"
  }
 },
 "nbformat": 4,
 "nbformat_minor": 2
}
