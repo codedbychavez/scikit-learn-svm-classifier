{
 "cells": [
  {
   "cell_type": "code",
   "execution_count": 89,
   "metadata": {},
   "outputs": [],
   "source": [
    "import pandas as pd\n",
    "import numpy as np\n",
    "from sklearn.svm import LinearSVC\n",
    "from sklearn.model_selection import train_test_split\n",
    "from sklearn.feature_extraction.text import CountVectorizer\n",
    "from sklearn.feature_extraction.text import TfidfTransformer\n",
    "import pickle5 as pickle"
   ]
  },
  {
   "cell_type": "code",
   "execution_count": 90,
   "metadata": {},
   "outputs": [],
   "source": [
    "df = pd.read_json(\"./classifier/classification_data.json\")\n",
    "X_train, X_test, y_train, y_test = train_test_split(df['utterance'], df['intent'], random_state=0)"
   ]
  },
  {
   "cell_type": "code",
   "execution_count": 91,
   "metadata": {},
   "outputs": [],
   "source": [
    "count_vect = CountVectorizer()\n",
    "X_train_counts = count_vect.fit_transform(X_train)\n",
    "tfidf_transformer = TfidfTransformer()\n",
    "X_train_tfidf = tfidf_transformer.fit_transform(X_train_counts)\n",
    "\n",
    "model = LinearSVC(dual=\"auto\").fit(X_train_tfidf, y_train)"
   ]
  },
  {
   "cell_type": "code",
   "execution_count": 92,
   "metadata": {},
   "outputs": [],
   "source": [
    "# Save the vectorizer\n",
    "vec_file = './classifier/classifier.pickle'\n",
    "pickle.dump(count_vect, open(vec_file, 'wb'))\n",
    "\n",
    "# Save the model\n",
    "mod_file = './classifier/classifier.model'\n",
    "pickle.dump(model, open(mod_file, 'wb'))"
   ]
  },
  {
   "cell_type": "code",
   "execution_count": 93,
   "metadata": {},
   "outputs": [],
   "source": [
    "# Classify a new sentence\n",
    "sentence = \"whats up\""
   ]
  },
  {
   "cell_type": "code",
   "execution_count": 94,
   "metadata": {},
   "outputs": [],
   "source": [
    "# Load the vectorizer\n",
    "loaded_vect = pickle.load(open(vec_file, 'rb'))\n",
    "\n",
    " # load the model\n",
    "loaded_model = pickle.load(open(mod_file, 'rb'))"
   ]
  },
  {
   "cell_type": "code",
   "execution_count": 95,
   "metadata": {},
   "outputs": [
    {
     "name": "stdout",
     "output_type": "stream",
     "text": [
      "0.4\n"
     ]
    }
   ],
   "source": [
    "# Make a prediction\n",
    "temp_intent = loaded_model.predict(loaded_vect.transform([sentence]))\n",
    "\n",
    "# Get the mean\n",
    "the_mean = np.mean(temp_intent == y_test.values)\n",
    "\n",
    "print(the_mean)\n",
    "\n",
    "# intent = str(temp_intent[0])\n",
    "\n",
    "# print(intent)"
   ]
  },
  {
   "cell_type": "markdown",
   "metadata": {},
   "source": []
  }
 ],
 "metadata": {
  "kernelspec": {
   "display_name": "venv",
   "language": "python",
   "name": "python3"
  },
  "language_info": {
   "codemirror_mode": {
    "name": "ipython",
    "version": 3
   },
   "file_extension": ".py",
   "mimetype": "text/x-python",
   "name": "python",
   "nbconvert_exporter": "python",
   "pygments_lexer": "ipython3",
   "version": "3.10.12"
  }
 },
 "nbformat": 4,
 "nbformat_minor": 2
}
